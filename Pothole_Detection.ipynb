{
  "nbformat": 4,
  "nbformat_minor": 0,
  "metadata": {
    "colab": {
      "name": "Pothole Detection.ipynb",
      "provenance": [],
      "collapsed_sections": []
    },
    "kernelspec": {
      "name": "python3",
      "display_name": "Python 3"
    },
    "language_info": {
      "name": "python"
    },
    "widgets": {
      "application/vnd.jupyter.widget-state+json": {
        "07a1a662ea2848e78f7fc6a95248dad1": {
          "model_module": "@jupyter-widgets/controls",
          "model_name": "HBoxModel",
          "model_module_version": "1.5.0",
          "state": {
            "_dom_classes": [],
            "_model_module": "@jupyter-widgets/controls",
            "_model_module_version": "1.5.0",
            "_model_name": "HBoxModel",
            "_view_count": null,
            "_view_module": "@jupyter-widgets/controls",
            "_view_module_version": "1.5.0",
            "_view_name": "HBoxView",
            "box_style": "",
            "children": [
              "IPY_MODEL_c3a5f18be7494e79a05436c8027a6a78",
              "IPY_MODEL_9c4bcfbc133c4d29b422d4e1cff72c1d",
              "IPY_MODEL_43329c8c06e94895b58d83de25c15f52"
            ],
            "layout": "IPY_MODEL_8477cdd98e88488d900e2a70dec64269"
          }
        },
        "c3a5f18be7494e79a05436c8027a6a78": {
          "model_module": "@jupyter-widgets/controls",
          "model_name": "HTMLModel",
          "model_module_version": "1.5.0",
          "state": {
            "_dom_classes": [],
            "_model_module": "@jupyter-widgets/controls",
            "_model_module_version": "1.5.0",
            "_model_name": "HTMLModel",
            "_view_count": null,
            "_view_module": "@jupyter-widgets/controls",
            "_view_module_version": "1.5.0",
            "_view_name": "HTMLView",
            "description": "",
            "description_tooltip": null,
            "layout": "IPY_MODEL_581d20703b8b4112be31cf9acb5f3e01",
            "placeholder": "​",
            "style": "IPY_MODEL_46b02082f47c4a85bc5cd88346187331",
            "value": "100%"
          }
        },
        "9c4bcfbc133c4d29b422d4e1cff72c1d": {
          "model_module": "@jupyter-widgets/controls",
          "model_name": "FloatProgressModel",
          "model_module_version": "1.5.0",
          "state": {
            "_dom_classes": [],
            "_model_module": "@jupyter-widgets/controls",
            "_model_module_version": "1.5.0",
            "_model_name": "FloatProgressModel",
            "_view_count": null,
            "_view_module": "@jupyter-widgets/controls",
            "_view_module_version": "1.5.0",
            "_view_name": "ProgressView",
            "bar_style": "success",
            "description": "",
            "description_tooltip": null,
            "layout": "IPY_MODEL_cf587e8a85f74ba6875f4206248def30",
            "max": 29,
            "min": 0,
            "orientation": "horizontal",
            "style": "IPY_MODEL_87a2db3f6a0b41f299da99eccec68224",
            "value": 29
          }
        },
        "43329c8c06e94895b58d83de25c15f52": {
          "model_module": "@jupyter-widgets/controls",
          "model_name": "HTMLModel",
          "model_module_version": "1.5.0",
          "state": {
            "_dom_classes": [],
            "_model_module": "@jupyter-widgets/controls",
            "_model_module_version": "1.5.0",
            "_model_name": "HTMLModel",
            "_view_count": null,
            "_view_module": "@jupyter-widgets/controls",
            "_view_module_version": "1.5.0",
            "_view_name": "HTMLView",
            "description": "",
            "description_tooltip": null,
            "layout": "IPY_MODEL_f510211ffbcf44358b71fce8f5f04a1c",
            "placeholder": "​",
            "style": "IPY_MODEL_4838f9d1b82742dbb8f7a0eabe7d0ba5",
            "value": " 29/29 [00:06&lt;00:00,  5.07it/s]"
          }
        },
        "8477cdd98e88488d900e2a70dec64269": {
          "model_module": "@jupyter-widgets/base",
          "model_name": "LayoutModel",
          "model_module_version": "1.2.0",
          "state": {
            "_model_module": "@jupyter-widgets/base",
            "_model_module_version": "1.2.0",
            "_model_name": "LayoutModel",
            "_view_count": null,
            "_view_module": "@jupyter-widgets/base",
            "_view_module_version": "1.2.0",
            "_view_name": "LayoutView",
            "align_content": null,
            "align_items": null,
            "align_self": null,
            "border": null,
            "bottom": null,
            "display": null,
            "flex": null,
            "flex_flow": null,
            "grid_area": null,
            "grid_auto_columns": null,
            "grid_auto_flow": null,
            "grid_auto_rows": null,
            "grid_column": null,
            "grid_gap": null,
            "grid_row": null,
            "grid_template_areas": null,
            "grid_template_columns": null,
            "grid_template_rows": null,
            "height": null,
            "justify_content": null,
            "justify_items": null,
            "left": null,
            "margin": null,
            "max_height": null,
            "max_width": null,
            "min_height": null,
            "min_width": null,
            "object_fit": null,
            "object_position": null,
            "order": null,
            "overflow": null,
            "overflow_x": null,
            "overflow_y": null,
            "padding": null,
            "right": null,
            "top": null,
            "visibility": null,
            "width": null
          }
        },
        "581d20703b8b4112be31cf9acb5f3e01": {
          "model_module": "@jupyter-widgets/base",
          "model_name": "LayoutModel",
          "model_module_version": "1.2.0",
          "state": {
            "_model_module": "@jupyter-widgets/base",
            "_model_module_version": "1.2.0",
            "_model_name": "LayoutModel",
            "_view_count": null,
            "_view_module": "@jupyter-widgets/base",
            "_view_module_version": "1.2.0",
            "_view_name": "LayoutView",
            "align_content": null,
            "align_items": null,
            "align_self": null,
            "border": null,
            "bottom": null,
            "display": null,
            "flex": null,
            "flex_flow": null,
            "grid_area": null,
            "grid_auto_columns": null,
            "grid_auto_flow": null,
            "grid_auto_rows": null,
            "grid_column": null,
            "grid_gap": null,
            "grid_row": null,
            "grid_template_areas": null,
            "grid_template_columns": null,
            "grid_template_rows": null,
            "height": null,
            "justify_content": null,
            "justify_items": null,
            "left": null,
            "margin": null,
            "max_height": null,
            "max_width": null,
            "min_height": null,
            "min_width": null,
            "object_fit": null,
            "object_position": null,
            "order": null,
            "overflow": null,
            "overflow_x": null,
            "overflow_y": null,
            "padding": null,
            "right": null,
            "top": null,
            "visibility": null,
            "width": null
          }
        },
        "46b02082f47c4a85bc5cd88346187331": {
          "model_module": "@jupyter-widgets/controls",
          "model_name": "DescriptionStyleModel",
          "model_module_version": "1.5.0",
          "state": {
            "_model_module": "@jupyter-widgets/controls",
            "_model_module_version": "1.5.0",
            "_model_name": "DescriptionStyleModel",
            "_view_count": null,
            "_view_module": "@jupyter-widgets/base",
            "_view_module_version": "1.2.0",
            "_view_name": "StyleView",
            "description_width": ""
          }
        },
        "cf587e8a85f74ba6875f4206248def30": {
          "model_module": "@jupyter-widgets/base",
          "model_name": "LayoutModel",
          "model_module_version": "1.2.0",
          "state": {
            "_model_module": "@jupyter-widgets/base",
            "_model_module_version": "1.2.0",
            "_model_name": "LayoutModel",
            "_view_count": null,
            "_view_module": "@jupyter-widgets/base",
            "_view_module_version": "1.2.0",
            "_view_name": "LayoutView",
            "align_content": null,
            "align_items": null,
            "align_self": null,
            "border": null,
            "bottom": null,
            "display": null,
            "flex": null,
            "flex_flow": null,
            "grid_area": null,
            "grid_auto_columns": null,
            "grid_auto_flow": null,
            "grid_auto_rows": null,
            "grid_column": null,
            "grid_gap": null,
            "grid_row": null,
            "grid_template_areas": null,
            "grid_template_columns": null,
            "grid_template_rows": null,
            "height": null,
            "justify_content": null,
            "justify_items": null,
            "left": null,
            "margin": null,
            "max_height": null,
            "max_width": null,
            "min_height": null,
            "min_width": null,
            "object_fit": null,
            "object_position": null,
            "order": null,
            "overflow": null,
            "overflow_x": null,
            "overflow_y": null,
            "padding": null,
            "right": null,
            "top": null,
            "visibility": null,
            "width": null
          }
        },
        "87a2db3f6a0b41f299da99eccec68224": {
          "model_module": "@jupyter-widgets/controls",
          "model_name": "ProgressStyleModel",
          "model_module_version": "1.5.0",
          "state": {
            "_model_module": "@jupyter-widgets/controls",
            "_model_module_version": "1.5.0",
            "_model_name": "ProgressStyleModel",
            "_view_count": null,
            "_view_module": "@jupyter-widgets/base",
            "_view_module_version": "1.2.0",
            "_view_name": "StyleView",
            "bar_color": null,
            "description_width": ""
          }
        },
        "f510211ffbcf44358b71fce8f5f04a1c": {
          "model_module": "@jupyter-widgets/base",
          "model_name": "LayoutModel",
          "model_module_version": "1.2.0",
          "state": {
            "_model_module": "@jupyter-widgets/base",
            "_model_module_version": "1.2.0",
            "_model_name": "LayoutModel",
            "_view_count": null,
            "_view_module": "@jupyter-widgets/base",
            "_view_module_version": "1.2.0",
            "_view_name": "LayoutView",
            "align_content": null,
            "align_items": null,
            "align_self": null,
            "border": null,
            "bottom": null,
            "display": null,
            "flex": null,
            "flex_flow": null,
            "grid_area": null,
            "grid_auto_columns": null,
            "grid_auto_flow": null,
            "grid_auto_rows": null,
            "grid_column": null,
            "grid_gap": null,
            "grid_row": null,
            "grid_template_areas": null,
            "grid_template_columns": null,
            "grid_template_rows": null,
            "height": null,
            "justify_content": null,
            "justify_items": null,
            "left": null,
            "margin": null,
            "max_height": null,
            "max_width": null,
            "min_height": null,
            "min_width": null,
            "object_fit": null,
            "object_position": null,
            "order": null,
            "overflow": null,
            "overflow_x": null,
            "overflow_y": null,
            "padding": null,
            "right": null,
            "top": null,
            "visibility": null,
            "width": null
          }
        },
        "4838f9d1b82742dbb8f7a0eabe7d0ba5": {
          "model_module": "@jupyter-widgets/controls",
          "model_name": "DescriptionStyleModel",
          "model_module_version": "1.5.0",
          "state": {
            "_model_module": "@jupyter-widgets/controls",
            "_model_module_version": "1.5.0",
            "_model_name": "DescriptionStyleModel",
            "_view_count": null,
            "_view_module": "@jupyter-widgets/base",
            "_view_module_version": "1.2.0",
            "_view_name": "StyleView",
            "description_width": ""
          }
        }
      }
    }
  },
  "cells": [
    {
      "cell_type": "markdown",
      "source": [
        "##Pothole Detection"
      ],
      "metadata": {
        "id": "CVj-7AmOXlDw"
      }
    },
    {
      "cell_type": "markdown",
      "source": [
        "##Installing and Importing Necessary Libraries"
      ],
      "metadata": {
        "id": "gkVrF5GyXqEG"
      }
    },
    {
      "cell_type": "code",
      "execution_count": null,
      "metadata": {
        "id": "xb_h9ugv-I9N"
      },
      "outputs": [],
      "source": [
        "!pip install tensorflow-gpu==2.0.0"
      ]
    },
    {
      "cell_type": "code",
      "source": [
        "!pip install keras-tuner"
      ],
      "metadata": {
        "id": "NNEbO6kz-dSy"
      },
      "execution_count": null,
      "outputs": []
    },
    {
      "cell_type": "code",
      "source": [
        "import numpy as np\n",
        "import pandas as pd\n",
        "import seaborn as sns\n",
        "import matplotlib.pyplot as plt\n",
        "from sklearn.model_selection import train_test_split\n",
        "from sklearn.metrics import roc_auc_score, cohen_kappa_score, classification_report, roc_curve, confusion_matrix\n",
        "from tensorflow.keras.layers import Conv2D, MaxPooling2D, Flatten, Dense\n",
        "from tensorflow.keras.optimizers import Adam\n",
        "from tensorflow.keras.preprocessing.image import img_to_array\n",
        "from tensorflow.keras.models import Sequential\n",
        "from imutils import paths\n",
        "from google.colab import drive\n",
        "from keras_tuner import RandomSearch\n",
        "from keras_tuner.engine.hyperparameters import HyperParameters\n",
        "from tqdm import tqdm_notebook as tqdm\n",
        "import os\n",
        "import cv2\n",
        "from warnings import filterwarnings"
      ],
      "metadata": {
        "id": "5LTNc734-eVr"
      },
      "execution_count": 3,
      "outputs": []
    },
    {
      "cell_type": "code",
      "source": [
        "filterwarnings(\"ignore\")"
      ],
      "metadata": {
        "id": "V_1bj6vuDaDY"
      },
      "execution_count": 4,
      "outputs": []
    },
    {
      "cell_type": "code",
      "source": [
        "drive.mount(\"/content/drive\")"
      ],
      "metadata": {
        "colab": {
          "base_uri": "https://localhost:8080/"
        },
        "id": "tv7oHMkOBMEy",
        "outputId": "bec708b4-c47b-4f30-f0c6-0116c8edc8cc"
      },
      "execution_count": 5,
      "outputs": [
        {
          "output_type": "stream",
          "name": "stdout",
          "text": [
            "Drive already mounted at /content/drive; to attempt to forcibly remount, call drive.mount(\"/content/drive\", force_remount=True).\n"
          ]
        }
      ]
    },
    {
      "cell_type": "code",
      "source": [
        "os.chdir(\"/content/drive/MyDrive/Colab Notebooks/9. Potholes Detection CNN using Optimization\")"
      ],
      "metadata": {
        "id": "H7ScBkPnBN5N"
      },
      "execution_count": 6,
      "outputs": []
    },
    {
      "cell_type": "markdown",
      "source": [
        "## Data extraction from images"
      ],
      "metadata": {
        "id": "sPushh8NX2fe"
      }
    },
    {
      "cell_type": "code",
      "source": [
        "imagepaths = sorted(list(paths.list_images(\"dataset\")))"
      ],
      "metadata": {
        "id": "TnBv0N7TBN2J"
      },
      "execution_count": 7,
      "outputs": []
    },
    {
      "cell_type": "code",
      "source": [
        "data = []\n",
        "label = []\n",
        "with tqdm(total=len(imagepaths)) as pbar:\n",
        "    for i in imagepaths:\n",
        "        try:\n",
        "            image = cv2.imread(i)\n",
        "            image = cv2.resize(image, (28,28))\n",
        "        except:\n",
        "            continue\n",
        "        data.append(img_to_array(image))\n",
        "        label.append(i.split(sep=\"/\")[1])\n",
        "        pbar.update(1)    \n"
      ],
      "metadata": {
        "colab": {
          "base_uri": "https://localhost:8080/",
          "height": 49,
          "referenced_widgets": [
            "07a1a662ea2848e78f7fc6a95248dad1",
            "c3a5f18be7494e79a05436c8027a6a78",
            "9c4bcfbc133c4d29b422d4e1cff72c1d",
            "43329c8c06e94895b58d83de25c15f52",
            "8477cdd98e88488d900e2a70dec64269",
            "581d20703b8b4112be31cf9acb5f3e01",
            "46b02082f47c4a85bc5cd88346187331",
            "cf587e8a85f74ba6875f4206248def30",
            "87a2db3f6a0b41f299da99eccec68224",
            "f510211ffbcf44358b71fce8f5f04a1c",
            "4838f9d1b82742dbb8f7a0eabe7d0ba5"
          ]
        },
        "id": "jmunyBWmBNzM",
        "outputId": "4b1425aa-0069-406e-92a9-73ec559a29e5"
      },
      "execution_count": 8,
      "outputs": [
        {
          "output_type": "display_data",
          "data": {
            "text/plain": [
              "  0%|          | 0/29 [00:00<?, ?it/s]"
            ],
            "application/vnd.jupyter.widget-view+json": {
              "version_major": 2,
              "version_minor": 0,
              "model_id": "07a1a662ea2848e78f7fc6a95248dad1"
            }
          },
          "metadata": {}
        }
      ]
    },
    {
      "cell_type": "code",
      "source": [
        "data = np.array(data, dtype= \"float\")\n",
        "flabels = np.array([1 if i==\"potholes\" else 0 for i in label])"
      ],
      "metadata": {
        "id": "txSWshUdBNs7"
      },
      "execution_count": 9,
      "outputs": []
    },
    {
      "cell_type": "markdown",
      "source": [
        "##Splitting the data"
      ],
      "metadata": {
        "id": "QE07NrOqX_8t"
      }
    },
    {
      "cell_type": "code",
      "source": [
        "x_train, x_test, y_train, y_test = train_test_split(data, flabels, test_size = 0.2, random_state = 10, stratify = flabels)"
      ],
      "metadata": {
        "id": "twnQMCMZBNp6"
      },
      "execution_count": 10,
      "outputs": []
    },
    {
      "cell_type": "markdown",
      "source": [
        "##Building the model"
      ],
      "metadata": {
        "id": "cLzrfxOLYD_t"
      }
    },
    {
      "cell_type": "code",
      "source": [
        "def build_model(hp):\n",
        "    model = Sequential([\n",
        "                        Conv2D(filters = hp.Int(\"conv_1_filter\", min_value = 32, max_value = 128, step = 16),\n",
        "                               kernel_size = hp.Choice(\"conv_1_kernel\", values = [3,5]),\n",
        "                               activation = \"relu\"),\n",
        "                        MaxPooling2D(pool_size = (2,2), strides= (1,1)),\n",
        "                        Conv2D(filters = hp.Int(\"conv_2_filter\", min_value = 32, max_value = 128, step = 16),\n",
        "                               kernel_size = hp.Choice(\"conv_2_kernel\", values= [3,5]),\n",
        "                               activation = \"relu\"),\n",
        "                        MaxPooling2D(pool_size = (2,2), strides= (1,1)),\n",
        "                        Flatten(),\n",
        "                        Dense(units = hp.Int(\"Dense_1\", min_value = 128, max_value = 512, step = 64), activation = \"relu\"),\n",
        "                        Dense(units = hp.Int(\"Dense_2\", min_value = 128, max_value = 512, step = 64), activation = \"relu\"),\n",
        "                        Dense(units = hp.Int(\"Dense_3\", min_value = 128, max_value = 512, step = 64), activation = \"relu\"),\n",
        "                        Dense(1, activation = \"sigmoid\")                   \n",
        "\n",
        "    ])\n",
        "\n",
        "    model.compile(optimizer = Adam(),\n",
        "                  loss = \"binary_crossentropy\",\n",
        "                  metrics = [\"accuracy\"])\n",
        "\n",
        "    return model"
      ],
      "metadata": {
        "id": "USrH48vvBNlK"
      },
      "execution_count": 11,
      "outputs": []
    },
    {
      "cell_type": "markdown",
      "source": [
        "##Model Optimization"
      ],
      "metadata": {
        "id": "qr6B46jOYHel"
      }
    },
    {
      "cell_type": "code",
      "source": [
        "tuner_search = RandomSearch(build_model, max_trials= 25, objective= \"accuracy\", directory = \"ouput_models\", project_name = \"Potholes Detection\")\n",
        "tuner_search.search(x_train, y_train, epochs = 50, validation_split = 0.2)"
      ],
      "metadata": {
        "colab": {
          "base_uri": "https://localhost:8080/"
        },
        "id": "xDZiXQvELFic",
        "outputId": "8898bfe9-5217-44a5-a926-382ca6836b18"
      },
      "execution_count": 12,
      "outputs": [
        {
          "output_type": "stream",
          "name": "stdout",
          "text": [
            "Trial 25 Complete [00h 00m 15s]\n",
            "accuracy: 1.0\n",
            "\n",
            "Best accuracy So Far: 1.0\n",
            "Total elapsed time: 00h 08m 20s\n",
            "INFO:tensorflow:Oracle triggered exit\n"
          ]
        }
      ]
    },
    {
      "cell_type": "markdown",
      "source": [
        "##Building the best model"
      ],
      "metadata": {
        "id": "DNL6QIFzYLkF"
      }
    },
    {
      "cell_type": "code",
      "source": [
        "best_model = tuner_search.get_best_models()[0]"
      ],
      "metadata": {
        "id": "7s9W0hvvMyuM"
      },
      "execution_count": 33,
      "outputs": []
    },
    {
      "cell_type": "code",
      "source": [
        "best_model.build(input_shape = (None,28,28,3))\n",
        "best_model.summary()"
      ],
      "metadata": {
        "colab": {
          "base_uri": "https://localhost:8080/"
        },
        "id": "EbDtUWogPdCK",
        "outputId": "aac347ed-515d-4d01-f1d7-5c6cac0ce20a"
      },
      "execution_count": 34,
      "outputs": [
        {
          "output_type": "stream",
          "name": "stdout",
          "text": [
            "Model: \"sequential\"\n",
            "_________________________________________________________________\n",
            "Layer (type)                 Output Shape              Param #   \n",
            "=================================================================\n",
            "conv2d (Conv2D)              multiple                  3584      \n",
            "_________________________________________________________________\n",
            "max_pooling2d (MaxPooling2D) multiple                  0         \n",
            "_________________________________________________________________\n",
            "conv2d_1 (Conv2D)            multiple                  73792     \n",
            "_________________________________________________________________\n",
            "max_pooling2d_1 (MaxPooling2 multiple                  0         \n",
            "_________________________________________________________________\n",
            "flatten (Flatten)            multiple                  0         \n",
            "_________________________________________________________________\n",
            "dense (Dense)                multiple                  9912640   \n",
            "_________________________________________________________________\n",
            "dense_1 (Dense)              multiple                  61632     \n",
            "_________________________________________________________________\n",
            "dense_2 (Dense)              multiple                  37056     \n",
            "_________________________________________________________________\n",
            "dense_3 (Dense)              multiple                  193       \n",
            "=================================================================\n",
            "Total params: 10,088,897\n",
            "Trainable params: 10,088,897\n",
            "Non-trainable params: 0\n",
            "_________________________________________________________________\n"
          ]
        }
      ]
    },
    {
      "cell_type": "code",
      "source": [
        "M1 = best_model.fit(data, flabels, validation_split = 0.2, epochs = 50)"
      ],
      "metadata": {
        "colab": {
          "base_uri": "https://localhost:8080/"
        },
        "id": "rzYesZqGP4vS",
        "outputId": "0eb30023-8f0c-44a8-ec7d-65242ae227e6"
      },
      "execution_count": 35,
      "outputs": [
        {
          "output_type": "stream",
          "name": "stdout",
          "text": [
            "Train on 23 samples, validate on 6 samples\n",
            "Epoch 1/50\n",
            "23/23 [==============================] - 1s 47ms/sample - loss: 0.3598 - accuracy: 0.8696 - val_loss: 0.2475 - val_accuracy: 0.8333\n",
            "Epoch 2/50\n",
            "23/23 [==============================] - 0s 14ms/sample - loss: 0.2192 - accuracy: 0.9130 - val_loss: 0.2316 - val_accuracy: 0.8333\n",
            "Epoch 3/50\n",
            "23/23 [==============================] - 0s 14ms/sample - loss: 0.1804 - accuracy: 1.0000 - val_loss: 0.2524 - val_accuracy: 0.8333\n",
            "Epoch 4/50\n",
            "23/23 [==============================] - 0s 15ms/sample - loss: 0.1364 - accuracy: 0.9565 - val_loss: 0.3213 - val_accuracy: 0.8333\n",
            "Epoch 5/50\n",
            "23/23 [==============================] - 0s 14ms/sample - loss: 0.0133 - accuracy: 1.0000 - val_loss: 0.0292 - val_accuracy: 1.0000\n",
            "Epoch 6/50\n",
            "23/23 [==============================] - 0s 15ms/sample - loss: 0.0581 - accuracy: 0.9565 - val_loss: 0.6085 - val_accuracy: 0.8333\n",
            "Epoch 7/50\n",
            "23/23 [==============================] - 0s 15ms/sample - loss: 0.0139 - accuracy: 1.0000 - val_loss: 0.7522 - val_accuracy: 0.8333\n",
            "Epoch 8/50\n",
            "23/23 [==============================] - 0s 16ms/sample - loss: 0.0608 - accuracy: 0.9565 - val_loss: 0.4743 - val_accuracy: 0.8333\n",
            "Epoch 9/50\n",
            "23/23 [==============================] - 0s 17ms/sample - loss: 0.0328 - accuracy: 1.0000 - val_loss: 0.3807 - val_accuracy: 0.6667\n",
            "Epoch 10/50\n",
            "23/23 [==============================] - 0s 16ms/sample - loss: 0.0574 - accuracy: 1.0000 - val_loss: 0.3773 - val_accuracy: 0.6667\n",
            "Epoch 11/50\n",
            "23/23 [==============================] - 0s 15ms/sample - loss: 0.0433 - accuracy: 1.0000 - val_loss: 0.4504 - val_accuracy: 0.8333\n",
            "Epoch 12/50\n",
            "23/23 [==============================] - 0s 15ms/sample - loss: 0.0129 - accuracy: 1.0000 - val_loss: 0.5908 - val_accuracy: 0.8333\n",
            "Epoch 13/50\n",
            "23/23 [==============================] - 0s 14ms/sample - loss: 0.0013 - accuracy: 1.0000 - val_loss: 0.7447 - val_accuracy: 0.8333\n",
            "Epoch 14/50\n",
            "23/23 [==============================] - 0s 16ms/sample - loss: 8.8760e-05 - accuracy: 1.0000 - val_loss: 0.8871 - val_accuracy: 0.8333\n",
            "Epoch 15/50\n",
            "23/23 [==============================] - 0s 17ms/sample - loss: 1.4333e-05 - accuracy: 1.0000 - val_loss: 0.9441 - val_accuracy: 0.8333\n",
            "Epoch 16/50\n",
            "23/23 [==============================] - 0s 16ms/sample - loss: 1.3385e-05 - accuracy: 1.0000 - val_loss: 0.7218 - val_accuracy: 0.8333\n",
            "Epoch 17/50\n",
            "23/23 [==============================] - 0s 15ms/sample - loss: 6.1377e-05 - accuracy: 1.0000 - val_loss: 0.3356 - val_accuracy: 0.8333\n",
            "Epoch 18/50\n",
            "23/23 [==============================] - 1s 28ms/sample - loss: 5.6808e-04 - accuracy: 1.0000 - val_loss: 0.0587 - val_accuracy: 1.0000\n",
            "Epoch 19/50\n",
            "23/23 [==============================] - 0s 17ms/sample - loss: 0.0029 - accuracy: 1.0000 - val_loss: 0.0262 - val_accuracy: 1.0000\n",
            "Epoch 20/50\n",
            "23/23 [==============================] - 0s 17ms/sample - loss: 0.0011 - accuracy: 1.0000 - val_loss: 0.0260 - val_accuracy: 1.0000\n",
            "Epoch 21/50\n",
            "23/23 [==============================] - 0s 17ms/sample - loss: 1.4530e-04 - accuracy: 1.0000 - val_loss: 0.0308 - val_accuracy: 1.0000\n",
            "Epoch 22/50\n",
            "23/23 [==============================] - 0s 16ms/sample - loss: 2.2789e-05 - accuracy: 1.0000 - val_loss: 0.0416 - val_accuracy: 1.0000\n",
            "Epoch 23/50\n",
            "23/23 [==============================] - 0s 17ms/sample - loss: 7.6603e-06 - accuracy: 1.0000 - val_loss: 0.0594 - val_accuracy: 1.0000\n",
            "Epoch 24/50\n",
            "23/23 [==============================] - 1s 50ms/sample - loss: 3.7653e-06 - accuracy: 1.0000 - val_loss: 0.0966 - val_accuracy: 1.0000\n",
            "Epoch 25/50\n",
            "23/23 [==============================] - 1s 44ms/sample - loss: 2.2309e-06 - accuracy: 1.0000 - val_loss: 0.1599 - val_accuracy: 0.8333\n",
            "Epoch 26/50\n",
            "23/23 [==============================] - 1s 50ms/sample - loss: 1.3842e-06 - accuracy: 1.0000 - val_loss: 0.2504 - val_accuracy: 0.8333\n",
            "Epoch 27/50\n",
            "23/23 [==============================] - 1s 48ms/sample - loss: 8.4424e-07 - accuracy: 1.0000 - val_loss: 0.3609 - val_accuracy: 0.8333\n",
            "Epoch 28/50\n",
            "23/23 [==============================] - 0s 21ms/sample - loss: 4.4705e-07 - accuracy: 1.0000 - val_loss: 0.4823 - val_accuracy: 0.8333\n",
            "Epoch 29/50\n",
            "23/23 [==============================] - 1s 22ms/sample - loss: 2.1494e-07 - accuracy: 1.0000 - val_loss: 0.6110 - val_accuracy: 0.8333\n",
            "Epoch 30/50\n",
            "23/23 [==============================] - 0s 16ms/sample - loss: 9.9652e-08 - accuracy: 1.0000 - val_loss: 0.7434 - val_accuracy: 0.8333\n",
            "Epoch 31/50\n",
            "23/23 [==============================] - 0s 14ms/sample - loss: 4.7558e-08 - accuracy: 1.0000 - val_loss: 0.8764 - val_accuracy: 0.8333\n",
            "Epoch 32/50\n",
            "23/23 [==============================] - 0s 15ms/sample - loss: 2.5857e-08 - accuracy: 1.0000 - val_loss: 1.0040 - val_accuracy: 0.8333\n",
            "Epoch 33/50\n",
            "23/23 [==============================] - 0s 14ms/sample - loss: 1.9506e-08 - accuracy: 1.0000 - val_loss: 1.1254 - val_accuracy: 0.8333\n",
            "Epoch 34/50\n",
            "23/23 [==============================] - 0s 15ms/sample - loss: 2.5425e-08 - accuracy: 1.0000 - val_loss: 1.2437 - val_accuracy: 0.8333\n",
            "Epoch 35/50\n",
            "23/23 [==============================] - 0s 17ms/sample - loss: 4.6094e-08 - accuracy: 1.0000 - val_loss: 1.3541 - val_accuracy: 0.8333\n",
            "Epoch 36/50\n",
            "23/23 [==============================] - 0s 16ms/sample - loss: 8.9775e-08 - accuracy: 1.0000 - val_loss: 1.4587 - val_accuracy: 0.8333\n",
            "Epoch 37/50\n",
            "23/23 [==============================] - 0s 16ms/sample - loss: 1.7432e-07 - accuracy: 1.0000 - val_loss: 1.5564 - val_accuracy: 0.8333\n",
            "Epoch 38/50\n",
            "23/23 [==============================] - 0s 15ms/sample - loss: 3.2886e-07 - accuracy: 1.0000 - val_loss: 1.6468 - val_accuracy: 0.8333\n",
            "Epoch 39/50\n",
            "23/23 [==============================] - 0s 14ms/sample - loss: 6.0035e-07 - accuracy: 1.0000 - val_loss: 1.7296 - val_accuracy: 0.8333\n",
            "Epoch 40/50\n",
            "23/23 [==============================] - 0s 15ms/sample - loss: 1.0430e-06 - accuracy: 1.0000 - val_loss: 1.8047 - val_accuracy: 0.8333\n",
            "Epoch 41/50\n",
            "23/23 [==============================] - 0s 16ms/sample - loss: 1.7314e-06 - accuracy: 1.0000 - val_loss: 1.8713 - val_accuracy: 0.8333\n",
            "Epoch 42/50\n",
            "23/23 [==============================] - 0s 16ms/sample - loss: 2.6698e-06 - accuracy: 1.0000 - val_loss: 1.9285 - val_accuracy: 0.8333\n",
            "Epoch 43/50\n",
            "23/23 [==============================] - 0s 16ms/sample - loss: 3.7584e-06 - accuracy: 1.0000 - val_loss: 1.9679 - val_accuracy: 0.8333\n",
            "Epoch 44/50\n",
            "23/23 [==============================] - 0s 17ms/sample - loss: 4.7641e-06 - accuracy: 1.0000 - val_loss: 1.9908 - val_accuracy: 0.8333\n",
            "Epoch 45/50\n",
            "23/23 [==============================] - 0s 16ms/sample - loss: 5.3833e-06 - accuracy: 1.0000 - val_loss: 1.9995 - val_accuracy: 0.8333\n",
            "Epoch 46/50\n",
            "23/23 [==============================] - 0s 16ms/sample - loss: 5.4226e-06 - accuracy: 1.0000 - val_loss: 1.9949 - val_accuracy: 0.8333\n",
            "Epoch 47/50\n",
            "23/23 [==============================] - 0s 18ms/sample - loss: 4.9077e-06 - accuracy: 1.0000 - val_loss: 1.9768 - val_accuracy: 0.8333\n",
            "Epoch 48/50\n",
            "23/23 [==============================] - 0s 17ms/sample - loss: 4.0559e-06 - accuracy: 1.0000 - val_loss: 1.9470 - val_accuracy: 0.8333\n",
            "Epoch 49/50\n",
            "23/23 [==============================] - 0s 17ms/sample - loss: 3.1287e-06 - accuracy: 1.0000 - val_loss: 1.9112 - val_accuracy: 0.8333\n",
            "Epoch 50/50\n",
            "23/23 [==============================] - 0s 16ms/sample - loss: 2.3146e-06 - accuracy: 1.0000 - val_loss: 1.8722 - val_accuracy: 0.8333\n"
          ]
        }
      ]
    },
    {
      "cell_type": "markdown",
      "source": [
        "##Model Evaluation"
      ],
      "metadata": {
        "id": "R2IXKBb0YPdV"
      }
    },
    {
      "cell_type": "code",
      "source": [
        "Epochs = 50\n",
        "plt.figure(figsize = [10,8])\n",
        "plt.plot(np.arange(0, Epochs), M1.history[\"accuracy\"], label=\"train_acc\")\n",
        "plt.plot(np.arange(0, Epochs), M1.history[\"val_accuracy\"], label=\"val_acc\")\n",
        "plt.title(\"Pothole Detection: Training and Validation Accuracy\")\n",
        "plt.xlabel(\"Epoch\", weight=\"bold\")\n",
        "plt.ylabel(\"Accuracy\", weight=\"bold\")\n",
        "plt.legend()\n",
        "plt.show()"
      ],
      "metadata": {
        "colab": {
          "base_uri": "https://localhost:8080/",
          "height": 513
        },
        "id": "vWhIZUoLTtT4",
        "outputId": "a708cfb7-ebd5-45ca-d63d-2c7d34032d29"
      },
      "execution_count": 37,
      "outputs": [
        {
          "output_type": "display_data",
          "data": {
            "text/plain": [
              "<Figure size 720x576 with 1 Axes>"
            ],
            "image/png": "[encoded data removed]"
          },
          "metadata": {
            "needs_background": "light"
          }
        }
      ]
    },
    {
      "cell_type": "code",
      "source": [
        "plt.figure(figsize = [10,8])\n",
        "plt.plot(np.arange(0, Epochs), M1.history[\"loss\"], label=\"train_loss\")\n",
        "plt.plot(np.arange(0, Epochs), M1.history[\"val_loss\"], label=\"val_loss\")\n",
        "plt.title(\"Pothole Dectection: Training and Validation Loss\")\n",
        "plt.xlabel(\"Epoch\", weight=\"bold\")\n",
        "plt.ylabel(\"Loss\", weight=\"bold\")\n",
        "plt.legend()\n",
        "plt.show()"
      ],
      "metadata": {
        "colab": {
          "base_uri": "https://localhost:8080/",
          "height": 513
        },
        "id": "jO54bg7RT3pA",
        "outputId": "fc045ef3-67cb-47da-bbfa-9cce808f2cdd"
      },
      "execution_count": 38,
      "outputs": [
        {
          "output_type": "display_data",
          "data": {
            "text/plain": [
              "<Figure size 720x576 with 1 Axes>"
            ],
            "image/png": "[encoded data removed]"
          },
          "metadata": {
            "needs_background": "light"
          }
        }
      ]
    },
    {
      "cell_type": "code",
      "source": [
        "def plot_roc(y_pred_prob):\n",
        "    fpr, tpr, threshold = roc_curve(y_test, y_pred_prob)\n",
        "    fig = plt.figure(figsize= (20,15))\n",
        "    plt.plot(fpr,tpr)\n",
        "    plt.plot([0,1],\"r--\")\n",
        "    plt.xlim([0,1])\n",
        "    plt.ylim([0,1])\n",
        "    plt.text(x = 0.02, y = 0.85, s = (\"AUC Score: \", roc_auc_score(y_test, y_pred_prob)))\n",
        "    plt.title('ROC Curve for Vehicle Detection', fontsize = 15)\n",
        "    plt.xlabel('False positive rate (1-Specificity)', fontsize = 15)\n",
        "    plt.ylabel('True positive rate (Sensitivity)', fontsize = 15)\n",
        "    plt.grid(True)"
      ],
      "metadata": {
        "id": "vh4EkkYOU-VL"
      },
      "execution_count": 39,
      "outputs": []
    },
    {
      "cell_type": "code",
      "source": [
        "def model_evaluation(y_test, y_pred):\n",
        "    print(\"Cohen Kappa Score:\", cohen_kappa_score(y_test, y_pred), \"\\n\")\n",
        "    print(\"Classification Report--> \\n\", classification_report(y_test,y_pred))\n",
        "    cm = confusion_matrix(y_test, y_pred)\n",
        "    cm = pd.DataFrame(cm)\n",
        "    sns.heatmap(cm, annot =True, fmt =\"d\")\n",
        "    plt.xlabel(\"Predicted Class\")\n",
        "    plt.ylabel(\"Actual Class\")"
      ],
      "metadata": {
        "id": "83LhBWs7VIwI"
      },
      "execution_count": 40,
      "outputs": []
    },
    {
      "cell_type": "code",
      "source": [
        "y_pred_prob = best_model.predict(x_test)"
      ],
      "metadata": {
        "id": "V7djWJS-VKGo"
      },
      "execution_count": 41,
      "outputs": []
    },
    {
      "cell_type": "code",
      "source": [
        "plot_roc(y_pred_prob)"
      ],
      "metadata": {
        "colab": {
          "base_uri": "https://localhost:8080/",
          "height": 900
        },
        "id": "sK_dOs7bVQtQ",
        "outputId": "8f62fd07-0d88-4c84-91a6-42f45f1cde43"
      },
      "execution_count": 42,
      "outputs": [
        {
          "output_type": "display_data",
          "data": {
            "text/plain": [
              "<Figure size 1440x1080 with 1 Axes>"
            ],
            "image/png": "[encoded data removed]"
          },
          "metadata": {
            "needs_background": "light"
          }
        }
      ]
    },
    {
      "cell_type": "code",
      "source": [
        "y_pred = [1 if i>0.5 else 0 for i in y_pred_prob] "
      ],
      "metadata": {
        "id": "wAMi4hDiVTJ_"
      },
      "execution_count": 44,
      "outputs": []
    },
    {
      "cell_type": "code",
      "source": [
        "model_evaluation(y_test, y_pred)"
      ],
      "metadata": {
        "colab": {
          "base_uri": "https://localhost:8080/",
          "height": 491
        },
        "id": "YbLIDFkXVdJo",
        "outputId": "e3f6cbda-e94b-42b5-ef3c-f8986fb27da6"
      },
      "execution_count": 45,
      "outputs": [
        {
          "output_type": "stream",
          "name": "stdout",
          "text": [
            "Cohen Kappa Score: 1.0 \n",
            "\n",
            "Classification Report--> \n",
            "               precision    recall  f1-score   support\n",
            "\n",
            "           0       1.00      1.00      1.00         2\n",
            "           1       1.00      1.00      1.00         4\n",
            "\n",
            "    accuracy                           1.00         6\n",
            "   macro avg       1.00      1.00      1.00         6\n",
            "weighted avg       1.00      1.00      1.00         6\n",
            "\n"
          ]
        },
        {
          "output_type": "display_data",
          "data": {
            "text/plain": [
              "<Figure size 432x288 with 2 Axes>"
            ],
            "image/png": "[encoded data removed]"
          },
          "metadata": {
            "needs_background": "light"
          }
        }
      ]
    },
    {
      "cell_type": "markdown",
      "source": [
        "##Model Deployment"
      ],
      "metadata": {
        "id": "Zy_3Yo3bYTYO"
      }
    },
    {
      "cell_type": "code",
      "source": [
        "!pip install gradio"
      ],
      "metadata": {
        "id": "GnYDpF9wVptQ"
      },
      "execution_count": null,
      "outputs": []
    },
    {
      "cell_type": "code",
      "source": [
        "import gradio as gr\n",
        "def predict_image(image):\n",
        "    data_pred  = []\n",
        "    image = cv2.resize(image, (28, 28))\n",
        "    image = img_to_array(image)\n",
        "    data_pred.append(image)\n",
        "    d = np.array(data_pred, dtype = \"float\")\n",
        "    preds = best_model.predict(d)\n",
        "    if preds<0.5:\n",
        "        prediction = \"No Potholes\"\n",
        "    else:\n",
        "        prediction = \"Pothole\"\n",
        "    \n",
        "    return prediction\n",
        "\n",
        "im = gr.inputs.Image(shape=(28,28))\n",
        "label = gr.outputs.Label()\n",
        "\n",
        "gr.Interface(fn=predict_image, inputs=im, outputs=label, capture_session=True, title=\"Pothole Detection\").launch(share=True)"
      ],
      "metadata": {
        "colab": {
          "base_uri": "https://localhost:8080/",
          "height": 643
        },
        "id": "fOD9tt_8VvHI",
        "outputId": "f3be470d-33bd-4723-85ca-9a7aaac8883b"
      },
      "execution_count": 48,
      "outputs": [
        {
          "output_type": "stream",
          "name": "stdout",
          "text": [
            "Colab notebook detected. To show errors in colab notebook, set `debug=True` in `launch()`\n",
            "Running on public URL: https://57461.gradio.app\n",
            "\n",
            "This share link expires in 72 hours. For free permanent hosting, check out Spaces (https://huggingface.co/spaces)\n"
          ]
        },
        {
          "output_type": "display_data",
          "data": {
            "text/plain": [
              "<IPython.lib.display.IFrame at 0x7fd7cf496550>"
            ],
            "text/html": [
              "\n",
              "        <iframe\n",
              "            width=\"900\"\n",
              "            height=\"500\"\n",
              "            src=\"https://57461.gradio.app\"\n",
              "            frameborder=\"0\"\n",
              "            allowfullscreen\n",
              "        ></iframe>\n",
              "        "
            ]
          },
          "metadata": {}
        },
        {
          "output_type": "execute_result",
          "data": {
            "text/plain": [
              "(<fastapi.applications.FastAPI at 0x7fd7d441e450>,\n",
              " 'http://127.0.0.1:7861/',\n",
              " 'https://57461.gradio.app')"
            ]
          },
          "metadata": {},
          "execution_count": 48
        }
      ]
    },
    {
      "cell_type": "code",
      "source": [
        ""
      ],
      "metadata": {
        "id": "o04cfi_NWeD3"
      },
      "execution_count": null,
      "outputs": []
    }
  ]
}